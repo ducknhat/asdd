{
 "cells": [
  {
   "cell_type": "code",
   "execution_count": 29,
   "id": "5053f980",
   "metadata": {},
   "outputs": [
    {
     "data": {
      "text/plain": [
       "str"
      ]
     },
     "execution_count": 29,
     "metadata": {},
     "output_type": "execute_result"
    }
   ],
   "source": [
    "type(\"Hi!\")"
   ]
  },
  {
   "cell_type": "code",
   "execution_count": 30,
   "id": "15e3b925",
   "metadata": {},
   "outputs": [
    {
     "data": {
      "text/plain": [
       "float"
      ]
     },
     "execution_count": 30,
     "metadata": {},
     "output_type": "execute_result"
    }
   ],
   "source": [
    "type(112312.3123)"
   ]
  },
  {
   "cell_type": "code",
   "execution_count": 31,
   "id": "505783bc",
   "metadata": {},
   "outputs": [
    {
     "ename": "NameError",
     "evalue": "name 'TRUE' is not defined",
     "output_type": "error",
     "traceback": [
      "\u001b[0;31m---------------------------------------------------------------------------\u001b[0m",
      "\u001b[0;31mNameError\u001b[0m                                 Traceback (most recent call last)",
      "Cell \u001b[0;32mIn [31], line 1\u001b[0m\n\u001b[0;32m----> 1\u001b[0m \u001b[43mTRUE\u001b[49m\n",
      "\u001b[0;31mNameError\u001b[0m: name 'TRUE' is not defined"
     ]
    }
   ],
   "source": [
    "TRUE\n"
   ]
  },
  {
   "cell_type": "code",
   "execution_count": 32,
   "id": "9bfb045f",
   "metadata": {},
   "outputs": [
    {
     "data": {
      "text/plain": [
       "True"
      ]
     },
     "execution_count": 32,
     "metadata": {},
     "output_type": "execute_result"
    }
   ],
   "source": [
    "True\n"
   ]
  },
  {
   "cell_type": "code",
   "execution_count": 33,
   "id": "b66fb2ce",
   "metadata": {},
   "outputs": [
    {
     "data": {
      "text/plain": [
       "False"
      ]
     },
     "execution_count": 33,
     "metadata": {},
     "output_type": "execute_result"
    }
   ],
   "source": [
    "False"
   ]
  },
  {
   "cell_type": "code",
   "execution_count": 34,
   "id": "68c43ff4",
   "metadata": {},
   "outputs": [
    {
     "data": {
      "text/plain": [
       "bool"
      ]
     },
     "execution_count": 34,
     "metadata": {},
     "output_type": "execute_result"
    }
   ],
   "source": [
    "type(True)"
   ]
  },
  {
   "cell_type": "code",
   "execution_count": 35,
   "id": "6239ef02",
   "metadata": {},
   "outputs": [
    {
     "data": {
      "text/plain": [
       "True"
      ]
     },
     "execution_count": 35,
     "metadata": {},
     "output_type": "execute_result"
    }
   ],
   "source": [
    "1==2 or 1==1"
   ]
  },
  {
   "cell_type": "markdown",
   "id": "0851ba6a",
   "metadata": {},
   "source": [
    "# Kiểu dữ liệu phức tạp: Lists( danh sách)\n"
   ]
  },
  {
   "cell_type": "code",
   "execution_count": 36,
   "id": "082e6f30",
   "metadata": {},
   "outputs": [],
   "source": [
    "fruit = [\"apple\", \"banana\"]"
   ]
  },
  {
   "cell_type": "code",
   "execution_count": 37,
   "id": "12d05f9a",
   "metadata": {},
   "outputs": [],
   "source": [
    "number = [3,1,2,23,1,]"
   ]
  },
  {
   "cell_type": "code",
   "execution_count": 39,
   "id": "4ff2e642",
   "metadata": {},
   "outputs": [],
   "source": [
    "hh = [\"apple\", \"banana\",2,1,2,3, True]"
   ]
  },
  {
   "cell_type": "code",
   "execution_count": 40,
   "id": "6014f105",
   "metadata": {},
   "outputs": [
    {
     "data": {
      "text/plain": [
       "list"
      ]
     },
     "execution_count": 40,
     "metadata": {},
     "output_type": "execute_result"
    }
   ],
   "source": [
    "type(fruit)"
   ]
  },
  {
   "cell_type": "code",
   "execution_count": 41,
   "id": "967ac722",
   "metadata": {},
   "outputs": [
    {
     "data": {
      "text/plain": [
       "list"
      ]
     },
     "execution_count": 41,
     "metadata": {},
     "output_type": "execute_result"
    }
   ],
   "source": [
    "type(number)"
   ]
  },
  {
   "cell_type": "code",
   "execution_count": 42,
   "id": "a5253c3f",
   "metadata": {},
   "outputs": [
    {
     "data": {
      "text/plain": [
       "list"
      ]
     },
     "execution_count": 42,
     "metadata": {},
     "output_type": "execute_result"
    }
   ],
   "source": [
    "type(hh)"
   ]
  },
  {
   "cell_type": "code",
   "execution_count": 43,
   "id": "c8488ca2",
   "metadata": {},
   "outputs": [
    {
     "data": {
      "text/plain": [
       "str"
      ]
     },
     "execution_count": 43,
     "metadata": {},
     "output_type": "execute_result"
    }
   ],
   "source": [
    "type(fruit[0])"
   ]
  },
  {
   "cell_type": "code",
   "execution_count": 44,
   "id": "4bd97c12",
   "metadata": {},
   "outputs": [
    {
     "data": {
      "text/plain": [
       "23"
      ]
     },
     "execution_count": 44,
     "metadata": {},
     "output_type": "execute_result"
    }
   ],
   "source": [
    "number[3]"
   ]
  },
  {
   "cell_type": "code",
   "execution_count": 45,
   "id": "a82d71e9",
   "metadata": {},
   "outputs": [
    {
     "data": {
      "text/plain": [
       "'apple'"
      ]
     },
     "execution_count": 45,
     "metadata": {},
     "output_type": "execute_result"
    }
   ],
   "source": [
    "fruit[0]"
   ]
  },
  {
   "cell_type": "code",
   "execution_count": 46,
   "id": "6b547c7b",
   "metadata": {},
   "outputs": [],
   "source": [
    "color = [\"red\", \"yellow\", \"brown\", \"blue\"]"
   ]
  },
  {
   "cell_type": "code",
   "execution_count": 47,
   "id": "7c87cb69",
   "metadata": {},
   "outputs": [
    {
     "data": {
      "text/plain": [
       "list"
      ]
     },
     "execution_count": 47,
     "metadata": {},
     "output_type": "execute_result"
    }
   ],
   "source": [
    "type(color)"
   ]
  },
  {
   "cell_type": "code",
   "execution_count": 48,
   "id": "16b7f069",
   "metadata": {},
   "outputs": [
    {
     "data": {
      "text/plain": [
       "'red'"
      ]
     },
     "execution_count": 48,
     "metadata": {},
     "output_type": "execute_result"
    }
   ],
   "source": [
    "color[0]"
   ]
  },
  {
   "cell_type": "code",
   "execution_count": 49,
   "id": "195edc99",
   "metadata": {},
   "outputs": [
    {
     "name": "stdout",
     "output_type": "stream",
     "text": [
      "blue\n"
     ]
    }
   ],
   "source": [
    "print(color[3])"
   ]
  },
  {
   "cell_type": "code",
   "execution_count": 50,
   "id": "9111acdc",
   "metadata": {},
   "outputs": [],
   "source": [
    "a = \"civic\""
   ]
  },
  {
   "cell_type": "code",
   "execution_count": 54,
   "id": "fc3ea7fc",
   "metadata": {},
   "outputs": [
    {
     "name": "stdout",
     "output_type": "stream",
     "text": [
      "civic\n"
     ]
    }
   ],
   "source": [
    "print(a[::-1])"
   ]
  },
  {
   "cell_type": "code",
   "execution_count": 53,
   "id": "1a7bb855",
   "metadata": {},
   "outputs": [
    {
     "name": "stdout",
     "output_type": "stream",
     "text": [
      "True\n"
     ]
    }
   ],
   "source": [
    "print(b)"
   ]
  },
  {
   "cell_type": "markdown",
   "id": "0b9c0428",
   "metadata": {},
   "source": [
    "### Tuple (Ống)\n",
    "#### k thể thay đổi"
   ]
  },
  {
   "cell_type": "code",
   "execution_count": 2,
   "id": "15dd7abf",
   "metadata": {},
   "outputs": [],
   "source": [
    "mytuple = (\"banana\", \"apple\")"
   ]
  },
  {
   "cell_type": "code",
   "execution_count": 3,
   "id": "8db56d8d",
   "metadata": {},
   "outputs": [
    {
     "data": {
      "text/plain": [
       "'banana'"
      ]
     },
     "execution_count": 3,
     "metadata": {},
     "output_type": "execute_result"
    }
   ],
   "source": [
    "mytuple[0]"
   ]
  },
  {
   "cell_type": "code",
   "execution_count": 4,
   "id": "ef5e9b17",
   "metadata": {},
   "outputs": [],
   "source": [
    "mylist = [\"1\", \"2\"]"
   ]
  },
  {
   "cell_type": "code",
   "execution_count": 5,
   "id": "769907fb",
   "metadata": {},
   "outputs": [],
   "source": [
    "mylist[0] = \"3\""
   ]
  },
  {
   "cell_type": "code",
   "execution_count": 6,
   "id": "140a13c4",
   "metadata": {},
   "outputs": [
    {
     "data": {
      "text/plain": [
       "['3', '2']"
      ]
     },
     "execution_count": 6,
     "metadata": {},
     "output_type": "execute_result"
    }
   ],
   "source": [
    "mylist"
   ]
  },
  {
   "cell_type": "markdown",
   "id": "e572235d",
   "metadata": {},
   "source": [
    "# Set (tẬP HỢP)\n",
    "#### k thể thay đổi, có thể thêm"
   ]
  },
  {
   "cell_type": "code",
   "execution_count": 9,
   "id": "a6db2246",
   "metadata": {},
   "outputs": [],
   "source": [
    "myset = {\"apple\", \"cheer\", \"banna\", \"cheer\"}"
   ]
  },
  {
   "cell_type": "code",
   "execution_count": 11,
   "id": "c0b5b495",
   "metadata": {},
   "outputs": [
    {
     "name": "stdout",
     "output_type": "stream",
     "text": [
      "{'banna', 'cheer', 'apple'}\n"
     ]
    }
   ],
   "source": [
    "print(myset)"
   ]
  },
  {
   "cell_type": "code",
   "execution_count": 12,
   "id": "314f293d",
   "metadata": {},
   "outputs": [],
   "source": [
    "myset.add(\"ccccc\")"
   ]
  },
  {
   "cell_type": "code",
   "execution_count": 13,
   "id": "7435476d",
   "metadata": {},
   "outputs": [
    {
     "name": "stdout",
     "output_type": "stream",
     "text": [
      "{'banna', 'cheer', 'apple', 'ccccc'}\n"
     ]
    }
   ],
   "source": [
    "print(myset)"
   ]
  },
  {
   "cell_type": "code",
   "execution_count": 15,
   "id": "5f5c94f7",
   "metadata": {},
   "outputs": [
    {
     "data": {
      "text/plain": [
       "4"
      ]
     },
     "execution_count": 15,
     "metadata": {},
     "output_type": "execute_result"
    }
   ],
   "source": [
    "len(myset)"
   ]
  },
  {
   "cell_type": "code",
   "execution_count": 19,
   "id": "31ed2a64",
   "metadata": {},
   "outputs": [],
   "source": [
    "danhsach = [\"Mai\", \"Hung\", \"Trang\", \"THao\", \"Mai\", \"CUc\", \"Thien\", \"Minh\"]"
   ]
  },
  {
   "cell_type": "code",
   "execution_count": 20,
   "id": "a26e6dde",
   "metadata": {},
   "outputs": [],
   "source": [
    "myset = set(danhsach)"
   ]
  },
  {
   "cell_type": "code",
   "execution_count": 21,
   "id": "d28ccb40",
   "metadata": {},
   "outputs": [
    {
     "name": "stdout",
     "output_type": "stream",
     "text": [
      "{'Trang', 'Mai', 'Minh', 'Thien', 'Hung', 'CUc', 'THao'}\n"
     ]
    }
   ],
   "source": [
    "print(myset)"
   ]
  },
  {
   "cell_type": "code",
   "execution_count": 22,
   "id": "feb788bf",
   "metadata": {},
   "outputs": [
    {
     "data": {
      "text/plain": [
       "8"
      ]
     },
     "execution_count": 22,
     "metadata": {},
     "output_type": "execute_result"
    }
   ],
   "source": [
    "len(danhsach)"
   ]
  },
  {
   "cell_type": "code",
   "execution_count": 23,
   "id": "a4ad92e6",
   "metadata": {},
   "outputs": [
    {
     "data": {
      "text/plain": [
       "7"
      ]
     },
     "execution_count": 23,
     "metadata": {},
     "output_type": "execute_result"
    }
   ],
   "source": [
    "len(myset)"
   ]
  },
  {
   "cell_type": "markdown",
   "id": "98764f82",
   "metadata": {},
   "source": [
    "# Dictionary"
   ]
  },
  {
   "cell_type": "code",
   "execution_count": 31,
   "id": "b7555cf9",
   "metadata": {},
   "outputs": [],
   "source": [
    "mydic = {\"nhat\":1, \"key2\":2}"
   ]
  },
  {
   "cell_type": "code",
   "execution_count": 32,
   "id": "ef966f39",
   "metadata": {},
   "outputs": [
    {
     "data": {
      "text/plain": [
       "1"
      ]
     },
     "execution_count": 32,
     "metadata": {},
     "output_type": "execute_result"
    }
   ],
   "source": [
    "mydic[\"nhat\"]"
   ]
  },
  {
   "cell_type": "markdown",
   "id": "2b1f8348",
   "metadata": {},
   "source": [
    "# LOgic\n",
    "* if statement"
   ]
  },
  {
   "cell_type": "code",
   "execution_count": 39,
   "id": "4b5cbf75",
   "metadata": {},
   "outputs": [],
   "source": [
    "name = \"nhatbt\""
   ]
  },
  {
   "cell_type": "code",
   "execution_count": 37,
   "id": "5f32d28d",
   "metadata": {},
   "outputs": [
    {
     "name": "stdout",
     "output_type": "stream",
     "text": [
      "Hi nhat\n"
     ]
    }
   ],
   "source": [
    "if name == \"nhat\":\n",
    "    print(\"Hi nhat\")"
   ]
  },
  {
   "cell_type": "code",
   "execution_count": 40,
   "id": "5b7950c7",
   "metadata": {},
   "outputs": [
    {
     "name": "stdout",
     "output_type": "stream",
     "text": [
      "who dafuq r u?\n"
     ]
    }
   ],
   "source": [
    "if name == \"nhat\":\n",
    "    print(\"hello nhat\")\n",
    "elif name == \"nhatdz\":\n",
    "    print(\"hello nhatdz\")\n",
    "else:\n",
    "    print(\"who dafuq r u?\")\n"
   ]
  },
  {
   "cell_type": "markdown",
   "id": "9b89eb0e",
   "metadata": {},
   "source": [
    "# Loop"
   ]
  },
  {
   "cell_type": "markdown",
   "id": "0c5edf5e",
   "metadata": {},
   "source": [
    "#### counting loop\n",
    "  *for statement"
   ]
  },
  {
   "cell_type": "code",
   "execution_count": 47,
   "id": "a7e678d4",
   "metadata": {},
   "outputs": [],
   "source": [
    "number = [1, 2, 3, 4, 5, 6]"
   ]
  },
  {
   "cell_type": "code",
   "execution_count": 48,
   "id": "d4a5fcd7",
   "metadata": {},
   "outputs": [
    {
     "name": "stdout",
     "output_type": "stream",
     "text": [
      "1\n",
      "4\n",
      "9\n",
      "16\n",
      "25\n",
      "36\n"
     ]
    }
   ],
   "source": [
    "for item in number:\n",
    "    print(item ** 2)"
   ]
  },
  {
   "cell_type": "code",
   "execution_count": 49,
   "id": "612e35b7",
   "metadata": {},
   "outputs": [
    {
     "name": "stdout",
     "output_type": "stream",
     "text": [
      "3\n",
      "4\n",
      "5\n",
      "6\n",
      "7\n",
      "8\n"
     ]
    }
   ],
   "source": [
    "for item in number:\n",
    "    print(item + 2)"
   ]
  },
  {
   "cell_type": "markdown",
   "id": "a9bd3ed8",
   "metadata": {},
   "source": [
    "## COnditional Loop\n",
    "```while``` statement"
   ]
  },
  {
   "cell_type": "code",
   "execution_count": null,
   "id": "ad52466d",
   "metadata": {},
   "outputs": [],
   "source": [
    "count = 0\n",
    "while True:\n",
    "    print(\"This count is:\", count)\n",
    "    count = count + 1\n",
    "    if count <= 4:\n",
    "        break\n",
    "    count = count + 1"
   ]
  },
  {
   "cell_type": "code",
   "execution_count": null,
   "id": "4a7b8f5c",
   "metadata": {},
   "outputs": [],
   "source": [
    "count = 0\n",
    "while True:\n",
    "    print(\"This count is:\", count)\n",
    "    count = count + 1\n",
    "    if count <= 4:\n",
    "        break\n",
    "    count = count + 1"
   ]
  },
  {
   "cell_type": "code",
   "execution_count": null,
   "id": "c290db15",
   "metadata": {},
   "outputs": [],
   "source": [
    "for item in number:\n",
    "    print(item ** 2)"
   ]
  },
  {
   "cell_type": "code",
   "execution_count": null,
   "id": "28c4dbf0",
   "metadata": {},
   "outputs": [],
   "source": [
    "count = 0\n",
    "while True:\n",
    "    print(\"This count is:\", count)\n",
    "    count = count + 1\n",
    "    if count <= 4:\n",
    "        break\n",
    "    count = count + 1"
   ]
  },
  {
   "cell_type": "markdown",
   "id": "8c68f58e",
   "metadata": {},
   "source": [
    "## Functions (hamf sos)\n",
    "- function name: ten ham\n",
    "- function paremeters: tham so cua ham\n",
    " `my_function(param1, param2, ...)`"
   ]
  },
  {
   "cell_type": "code",
   "execution_count": 8,
   "id": "99af73db",
   "metadata": {},
   "outputs": [],
   "source": [
    "def say_hello():\n",
    "    print(\"Hello world\")"
   ]
  },
  {
   "cell_type": "code",
   "execution_count": null,
   "id": "167aa86e",
   "metadata": {},
   "outputs": [],
   "source": [
    "say_hello()"
   ]
  },
  {
   "cell_type": "markdown",
   "id": "5e76c006",
   "metadata": {},
   "source": [
    "# FUnction out[put"
   ]
  },
  {
   "cell_type": "markdown",
   "id": "a124ee30",
   "metadata": {},
   "source": [
    "`return`"
   ]
  },
  {
   "cell_type": "code",
   "execution_count": 1,
   "id": "b40a18b0",
   "metadata": {},
   "outputs": [
    {
     "name": "stdout",
     "output_type": "stream",
     "text": [
      "hello\n"
     ]
    }
   ],
   "source": [
    "print(\"hello\")"
   ]
  },
  {
   "cell_type": "code",
   "execution_count": 7,
   "id": "8828f0fb",
   "metadata": {},
   "outputs": [
    {
     "ename": "NameError",
     "evalue": "name 'doubles' is not defined",
     "output_type": "error",
     "traceback": [
      "\u001b[0;31m---------------------------------------------------------------------------\u001b[0m",
      "\u001b[0;31mNameError\u001b[0m                                 Traceback (most recent call last)",
      "Cell \u001b[0;32mIn [7], line 1\u001b[0m\n\u001b[0;32m----> 1\u001b[0m my_num \u001b[38;5;241m=\u001b[39m \u001b[43mdoubles\u001b[49m(\u001b[38;5;241m14\u001b[39m)\n",
      "\u001b[0;31mNameError\u001b[0m: name 'doubles' is not defined"
     ]
    }
   ],
   "source": [
    "my_num = doubles(14)"
   ]
  },
  {
   "cell_type": "markdown",
   "id": "0ddfdb00",
   "metadata": {},
   "source": [
    "# INput"
   ]
  },
  {
   "cell_type": "code",
   "execution_count": 5,
   "id": "ea29a549",
   "metadata": {},
   "outputs": [
    {
     "name": "stdout",
     "output_type": "stream",
     "text": [
      "DUc nhat\n"
     ]
    }
   ],
   "source": [
    "name = input()"
   ]
  },
  {
   "cell_type": "code",
   "execution_count": 6,
   "id": "9fbcdee9",
   "metadata": {},
   "outputs": [
    {
     "name": "stdout",
     "output_type": "stream",
     "text": [
      "Xin chào:DUc nhat\n"
     ]
    }
   ],
   "source": [
    "Name = input(\"Xin chào:\")"
   ]
  },
  {
   "cell_type": "code",
   "execution_count": 9,
   "id": "f2de9462",
   "metadata": {},
   "outputs": [
    {
     "name": "stdout",
     "output_type": "stream",
     "text": [
      "nhap so:13\n"
     ]
    }
   ],
   "source": [
    "my_number = int(input(\"nhap so:\"))"
   ]
  },
  {
   "cell_type": "code",
   "execution_count": 10,
   "id": "8c3ecb4c",
   "metadata": {},
   "outputs": [
    {
     "data": {
      "text/plain": [
       "int"
      ]
     },
     "execution_count": 10,
     "metadata": {},
     "output_type": "execute_result"
    }
   ],
   "source": [
    "type(my_number)"
   ]
  },
  {
   "cell_type": "markdown",
   "id": "c78c1455",
   "metadata": {},
   "source": [
    "* int : ép kiểu"
   ]
  },
  {
   "cell_type": "code",
   "execution_count": 15,
   "id": "816488b4",
   "metadata": {},
   "outputs": [],
   "source": [
    "def hello_there():\n",
    "    name = input()\n",
    "    print(\"Hello\", name)\n",
    "  "
   ]
  },
  {
   "cell_type": "code",
   "execution_count": 16,
   "id": "27538101",
   "metadata": {},
   "outputs": [
    {
     "name": "stdout",
     "output_type": "stream",
     "text": [
      "Nhat\n",
      "Hello Nhat\n"
     ]
    }
   ],
   "source": [
    "hello_there()"
   ]
  },
  {
   "cell_type": "markdown",
   "id": "ed177e8d",
   "metadata": {},
   "source": [
    "# moduleS"
   ]
  },
  {
   "cell_type": "code",
   "execution_count": 17,
   "id": "688bc337",
   "metadata": {},
   "outputs": [],
   "source": [
    "import random"
   ]
  },
  {
   "cell_type": "code",
   "execution_count": 21,
   "id": "616abaea",
   "metadata": {},
   "outputs": [
    {
     "data": {
      "text/plain": [
       "335714609079033458369704018472302162709243750151811246268530"
      ]
     },
     "execution_count": 21,
     "metadata": {},
     "output_type": "execute_result"
    }
   ],
   "source": [
    "random.randint(1, 1000000000000000000000000000000000000000000000000000000000000)"
   ]
  },
  {
   "cell_type": "code",
   "execution_count": 22,
   "id": "0f1610a4",
   "metadata": {},
   "outputs": [
    {
     "data": {
      "text/plain": [
       "683113321210834863679389949344184873954586936925498959117387"
      ]
     },
     "execution_count": 22,
     "metadata": {},
     "output_type": "execute_result"
    }
   ],
   "source": [
    "random.randint(1, 1000000000000000000000000000000000000000000000000000000000000)"
   ]
  },
  {
   "cell_type": "code",
   "execution_count": 23,
   "id": "c9ec489d",
   "metadata": {},
   "outputs": [
    {
     "data": {
      "text/plain": [
       "384092857685246892919024392494941198032015836125053312088700"
      ]
     },
     "execution_count": 23,
     "metadata": {},
     "output_type": "execute_result"
    }
   ],
   "source": [
    "random.randint(1, 1000000000000000000000000000000000000000000000000000000000000)"
   ]
  },
  {
   "cell_type": "code",
   "execution_count": 24,
   "id": "10aeb47b",
   "metadata": {},
   "outputs": [],
   "source": [
    "import random as rd"
   ]
  },
  {
   "cell_type": "code",
   "execution_count": 25,
   "id": "4fcd6111",
   "metadata": {},
   "outputs": [
    {
     "data": {
      "text/plain": [
       "4"
      ]
     },
     "execution_count": 25,
     "metadata": {},
     "output_type": "execute_result"
    }
   ],
   "source": [
    "rd.randint(1, 6)"
   ]
  },
  {
   "cell_type": "code",
   "execution_count": 26,
   "id": "e6c6d98e",
   "metadata": {},
   "outputs": [],
   "source": [
    "import time"
   ]
  },
  {
   "cell_type": "code",
   "execution_count": 27,
   "id": "41f32cd9",
   "metadata": {},
   "outputs": [
    {
     "data": {
      "text/plain": [
       "('+07', '+07')"
      ]
     },
     "execution_count": 27,
     "metadata": {},
     "output_type": "execute_result"
    }
   ],
   "source": [
    "time.tzname"
   ]
  },
  {
   "cell_type": "code",
   "execution_count": 29,
   "id": "e9d8a6fd",
   "metadata": {},
   "outputs": [],
   "source": [
    "import calendar"
   ]
  },
  {
   "cell_type": "raw",
   "id": "692357f1",
   "metadata": {},
   "source": []
  },
  {
   "cell_type": "code",
   "execution_count": 33,
   "id": "6c12f409",
   "metadata": {},
   "outputs": [
    {
     "name": "stdout",
     "output_type": "stream",
     "text": [
      "   December 2022\n",
      "Mo Tu We Th Fr Sa Su\n",
      "          1  2  3  4\n",
      " 5  6  7  8  9 10 11\n",
      "12 13 14 15 16 17 18\n",
      "19 20 21 22 23 24 25\n",
      "26 27 28 29 30 31\n"
     ]
    }
   ],
   "source": [
    "calendar.prmonth(2022, 12)"
   ]
  },
  {
   "cell_type": "code",
   "execution_count": 34,
   "id": "c9488fd0",
   "metadata": {},
   "outputs": [
    {
     "name": "stdout",
     "output_type": "stream",
     "text": [
      "Defaulting to user installation because normal site-packages is not writeable\n",
      "Collecting pandas\n",
      "  Downloading pandas-1.5.1-cp39-cp39-manylinux_2_17_x86_64.manylinux2014_x86_64.whl (12.2 MB)\n",
      "     |████████████████████████████████| 12.2 MB 1.4 MB/s            \n",
      "\u001b[?25hRequirement already satisfied: pytz>=2020.1 in /opt/tljh/user/lib/python3.9/site-packages (from pandas) (2022.6)\n",
      "Requirement already satisfied: numpy>=1.20.3 in /opt/tljh/user/lib/python3.9/site-packages (from pandas) (1.23.4)\n",
      "Requirement already satisfied: python-dateutil>=2.8.1 in /opt/tljh/user/lib/python3.9/site-packages (from pandas) (2.8.2)\n",
      "Requirement already satisfied: six>=1.5 in /opt/tljh/user/lib/python3.9/site-packages (from python-dateutil>=2.8.1->pandas) (1.16.0)\n",
      "Installing collected packages: pandas\n",
      "Successfully installed pandas-1.5.1\n"
     ]
    }
   ],
   "source": [
    "!pip install pandas"
   ]
  },
  {
   "cell_type": "code",
   "execution_count": 35,
   "id": "1704eb06",
   "metadata": {},
   "outputs": [
    {
     "name": "stdout",
     "output_type": "stream",
     "text": [
      "Defaulting to user installation because normal site-packages is not writeable\n",
      "Requirement already satisfied: pandas in ./.local/lib/python3.9/site-packages (1.5.1)\n",
      "Requirement already satisfied: python-dateutil>=2.8.1 in /opt/tljh/user/lib/python3.9/site-packages (from pandas) (2.8.2)\n",
      "Requirement already satisfied: pytz>=2020.1 in /opt/tljh/user/lib/python3.9/site-packages (from pandas) (2022.6)\n",
      "Requirement already satisfied: numpy>=1.20.3 in /opt/tljh/user/lib/python3.9/site-packages (from pandas) (1.23.4)\n",
      "Requirement already satisfied: six>=1.5 in /opt/tljh/user/lib/python3.9/site-packages (from python-dateutil>=2.8.1->pandas) (1.16.0)\n"
     ]
    }
   ],
   "source": [
    "!pip install pandas"
   ]
  },
  {
   "cell_type": "markdown",
   "id": "35f1c77f",
   "metadata": {},
   "source": [
    "# create a module"
   ]
  },
  {
   "cell_type": "code",
   "execution_count": 4,
   "id": "52674575",
   "metadata": {},
   "outputs": [],
   "source": [
    "import ducknhat as dn"
   ]
  },
  {
   "cell_type": "code",
   "execution_count": 3,
   "id": "ccd48dd4",
   "metadata": {},
   "outputs": [
    {
     "name": "stdout",
     "output_type": "stream",
     "text": [
      "Ket qua phep chia 1 cho 3 la: 0.33\n"
     ]
    }
   ],
   "source": [
    "dn.mydiv(1, 3)"
   ]
  },
  {
   "cell_type": "code",
   "execution_count": 1,
   "id": "47099e86",
   "metadata": {},
   "outputs": [],
   "source": [
    "%reload_ext autoreload\n",
    "%autoreload 2"
   ]
  },
  {
   "cell_type": "code",
   "execution_count": 8,
   "id": "a72f8766",
   "metadata": {},
   "outputs": [
    {
     "name": "stdout",
     "output_type": "stream",
     "text": [
      "Ket qua phep chia 1 cho 3 la: 0.333333\n"
     ]
    }
   ],
   "source": [
    "dn.mydiv(1, 3)"
   ]
  },
  {
   "cell_type": "code",
   "execution_count": 1,
   "id": "75c97336",
   "metadata": {},
   "outputs": [],
   "source": [
    "import game as gm"
   ]
  },
  {
   "cell_type": "code",
   "execution_count": 2,
   "id": "32afbdcd",
   "metadata": {},
   "outputs": [
    {
     "name": "stdout",
     "output_type": "stream",
     "text": [
      "nhap so:21\n",
      "Wrong\n"
     ]
    }
   ],
   "source": [
    "gm.play_game()"
   ]
  },
  {
   "cell_type": "code",
   "execution_count": 12,
   "id": "b213a180",
   "metadata": {},
   "outputs": [
    {
     "name": "stdout",
     "output_type": "stream",
     "text": [
      "nhap so:9\n"
     ]
    },
    {
     "ename": "NameError",
     "evalue": "name 'SoBIMat' is not defined",
     "output_type": "error",
     "traceback": [
      "\u001b[0;31m---------------------------------------------------------------------------\u001b[0m",
      "\u001b[0;31mNameError\u001b[0m                                 Traceback (most recent call last)",
      "Cell \u001b[0;32mIn [12], line 1\u001b[0m\n\u001b[0;32m----> 1\u001b[0m \u001b[43mgm\u001b[49m\u001b[38;5;241;43m.\u001b[39;49m\u001b[43mplay_game\u001b[49m\u001b[43m(\u001b[49m\u001b[43m)\u001b[49m\n",
      "File \u001b[0;32m~/game.py:4\u001b[0m, in \u001b[0;36mplay_game\u001b[0;34m()\u001b[0m\n\u001b[1;32m      2\u001b[0m SoBiMat \u001b[38;5;241m=\u001b[39m \u001b[38;5;241m10\u001b[39m\n\u001b[1;32m      3\u001b[0m so \u001b[38;5;241m=\u001b[39m \u001b[38;5;28mint\u001b[39m(\u001b[38;5;28minput\u001b[39m(\u001b[38;5;124m\"\u001b[39m\u001b[38;5;124mnhap so:\u001b[39m\u001b[38;5;124m\"\u001b[39m))\n\u001b[0;32m----> 4\u001b[0m \u001b[38;5;28;01mif\u001b[39;00m so \u001b[38;5;241m==\u001b[39m \u001b[43mSoBIMat\u001b[49m:\n\u001b[1;32m      5\u001b[0m     \u001b[38;5;28mprint\u001b[39m(\u001b[38;5;124m\"\u001b[39m\u001b[38;5;124mCorrect\u001b[39m\u001b[38;5;124m\"\u001b[39m)\n\u001b[1;32m      6\u001b[0m \u001b[38;5;28;01melse\u001b[39;00m:\n",
      "\u001b[0;31mNameError\u001b[0m: name 'SoBIMat' is not defined"
     ]
    }
   ],
   "source": [
    "gm.play_game()"
   ]
  },
  {
   "cell_type": "code",
   "execution_count": 2,
   "id": "da8de956",
   "metadata": {},
   "outputs": [
    {
     "name": "stdout",
     "output_type": "stream",
     "text": [
      "Nhap so:13\n",
      "nhap lai so:\n",
      "Nhap so:1\n",
      "nhap lai so:\n",
      "Nhap so:2\n",
      "nhap lai so:\n",
      "Nhap so:4\n",
      "nhap lai so:\n",
      "Nhap so:5\n",
      "nhap lai so:\n",
      "Nhap so:6\n",
      "nhap lai so:\n",
      "Nhap so:7\n",
      "nhap lai so:\n",
      "Nhap so:8\n",
      "nhap lai so:\n",
      "Nhap so:9\n",
      "nhap lai so:\n",
      "Nhap so:10\n",
      "nhap lai so:\n",
      "Nhap so:11\n",
      "nhap lai so:\n",
      "Nhap so:12\n",
      "nhap lai so:\n",
      "Nhap so:12\n",
      "nhap lai so:\n",
      "Nhap so:13\n",
      "nhap lai so:\n",
      "Nhap so:14\n",
      "nhap lai so:\n",
      "Nhap so:15\n",
      "nhap lai so:\n",
      "Nhap so:16\n",
      "nhap lai so:\n",
      "Nhap so:17\n",
      "nhap lai so:\n",
      "Nhap so:18\n",
      "Correct\n"
     ]
    }
   ],
   "source": [
    "dn.play_game()"
   ]
  },
  {
   "cell_type": "code",
   "execution_count": 3,
   "id": "de022855",
   "metadata": {},
   "outputs": [
    {
     "name": "stdout",
     "output_type": "stream",
     "text": [
      "Nhap so:10\n",
      "so lon hon\n",
      "Nhap so:15\n",
      "so lon hon\n",
      "Nhap so:18\n",
      "so be hon:\n",
      "Nhap so:16\n",
      "so lon hon\n",
      "Nhap so:17\n",
      "dung roi\n"
     ]
    }
   ],
   "source": [
    "dn.play_game()"
   ]
  },
  {
   "cell_type": "code",
   "execution_count": 5,
   "id": "f0fc973b",
   "metadata": {},
   "outputs": [
    {
     "name": "stdout",
     "output_type": "stream",
     "text": [
      "Nhap so:6666666\n",
      "so be hon:\n",
      "Nhap so:333333\n",
      "so be hon:\n",
      "Nhap so:2222222\n",
      "so be hon:\n",
      "Nhap so:1111\n",
      "so be hon:\n",
      "Nhap so:1\n",
      "so lon hon\n",
      "Nhap so:99\n",
      "so be hon:\n",
      "Nhap so:50\n",
      "so be hon:\n",
      "Nhap so:25\n",
      "so be hon:\n",
      "Nhap so:18\n",
      "so be hon:\n",
      "Nhap so:9\n",
      "so be hon:\n",
      "Nhap so:4\n",
      "so be hon:\n",
      "Nhap so:2\n",
      "so lon hon\n",
      "Nhap so:3\n",
      "dung roi\n"
     ]
    }
   ],
   "source": [
    "dn.play_game()"
   ]
  },
  {
   "cell_type": "code",
   "execution_count": 1,
   "id": "eb2227c4",
   "metadata": {},
   "outputs": [],
   "source": [
    "import ducknhat as dn\n",
    "\n",
    "\n"
   ]
  },
  {
   "cell_type": "code",
   "execution_count": 3,
   "id": "8bbc0451",
   "metadata": {},
   "outputs": [
    {
     "name": "stdout",
     "output_type": "stream",
     "text": [
      "Nhập số vào:5\n"
     ]
    },
    {
     "data": {
      "text/plain": [
       "'buzz'"
      ]
     },
     "execution_count": 3,
     "metadata": {},
     "output_type": "execute_result"
    }
   ],
   "source": [
    "dn.checkfizzbuzz()\n",
    "\n"
   ]
  },
  {
   "cell_type": "code",
   "execution_count": null,
   "id": "922ba43d",
   "metadata": {},
   "outputs": [],
   "source": []
  },
  {
   "cell_type": "code",
   "execution_count": null,
   "id": "3b5773b0",
   "metadata": {},
   "outputs": [],
   "source": []
  }
 ],
 "metadata": {
  "kernelspec": {
   "display_name": "Python 3 (ipykernel)",
   "language": "python",
   "name": "python3"
  },
  "language_info": {
   "codemirror_mode": {
    "name": "ipython",
    "version": 3
   },
   "file_extension": ".py",
   "mimetype": "text/x-python",
   "name": "python",
   "nbconvert_exporter": "python",
   "pygments_lexer": "ipython3",
   "version": "3.9.7"
  }
 },
 "nbformat": 4,
 "nbformat_minor": 5
}
